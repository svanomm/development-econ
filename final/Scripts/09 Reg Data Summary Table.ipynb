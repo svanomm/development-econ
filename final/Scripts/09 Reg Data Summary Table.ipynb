{
 "cells": [
  {
   "cell_type": "code",
   "execution_count": 34,
   "id": "bba63df5",
   "metadata": {},
   "outputs": [],
   "source": [
    "# Import Libraries\n",
    "import pandas as pd\n",
    "import numpy as np\n",
    "import pickle, shap, warnings\n",
    "warnings.filterwarnings(\"ignore\")"
   ]
  },
  {
   "cell_type": "code",
   "execution_count": 35,
   "id": "2b839c1d",
   "metadata": {},
   "outputs": [
    {
     "data": {
      "text/plain": [
       "(128889, 238)"
      ]
     },
     "execution_count": 35,
     "metadata": {},
     "output_type": "execute_result"
    }
   ],
   "source": [
    "# Load Dataset\n",
    "df = pd.read_csv('../data/prepared_data.csv')\n",
    "df.shape"
   ]
  },
  {
   "cell_type": "code",
   "execution_count": 36,
   "id": "dad2df26",
   "metadata": {},
   "outputs": [],
   "source": [
    "df['acidity'] = 7-df['ph_prediction_b']\n",
    "df['farm_size'] = df['size_shamba_b']"
   ]
  },
  {
   "cell_type": "code",
   "execution_count": 37,
   "id": "4069c1fa",
   "metadata": {},
   "outputs": [],
   "source": [
    "df = df[['followed_lime_1all','followed_fert_1all','treated','female_b','primary_all','ever_used_lime_b','hear_knows_lime_b','age_decades','acidity','farm_size']]"
   ]
  },
  {
   "cell_type": "code",
   "execution_count": 41,
   "id": "3f692e1f",
   "metadata": {},
   "outputs": [],
   "source": [
    "# Create summary statistics table\n",
    "summary_table = df.describe().T\n",
    "\n",
    "# Add count of non-missing observations\n",
    "summary_table['count_non_missing'] = df.count()\n",
    "summary_table['Variable'] = summary_table.index\n",
    "summary_table.reset_index(drop=True, inplace=True)\n",
    "\n",
    "# Reorder columns to match your requirements\n",
    "summary_table = summary_table[['Variable', 'min', 'mean', 'max', 'count']]\n",
    "\n",
    "\n",
    "# Rename columns for clarity\n",
    "summary_table.columns = ['Variable', 'Min.', 'Mean', 'Max.', 'Count']\n",
    "\n",
    "summary_table['Variable'] = ['Followed Lime Recommendation', 'Followed Fertilizer Recommendation', 'Treated', 'Female', 'Primary School',\n",
    "                             'Used Lime Before', 'Heard of Lime', 'Age (Decades)', 'Soil Acidity', 'Farm Size (Acres)']\n",
    "\n",
    "# Round min, mean, max to 1 decimal place\n",
    "summary_table['Min.'] = summary_table['Min.'].round(1)\n",
    "summary_table['Mean'] = summary_table['Mean'].round(2)\n",
    "summary_table['Max.'] = summary_table['Max.'].round(1)\n",
    "summary_table['Count'] = summary_table['Count'].astype(int)\n",
    "\n",
    "\n",
    "summary_table\n",
    "# Optional: Save to CSV\n",
    "out = summary_table.to_latex(float_format=\"%.3g\", index=False, position='H', caption='Summary Statistics of Regression Dataset').replace('Dataset}\\n', 'Dataset}\\n\\centering\\n\\\\footnotesize\\n')\n",
    "\n",
    "with open('../output/summary_statistics.tex', 'w') as f:\n",
    "    f.write(out)"
   ]
  }
 ],
 "metadata": {
  "kernelspec": {
   "display_name": ".venv",
   "language": "python",
   "name": "python3"
  },
  "language_info": {
   "codemirror_mode": {
    "name": "ipython",
    "version": 3
   },
   "file_extension": ".py",
   "mimetype": "text/x-python",
   "name": "python",
   "nbconvert_exporter": "python",
   "pygments_lexer": "ipython3",
   "version": "3.12.10"
  }
 },
 "nbformat": 4,
 "nbformat_minor": 5
}

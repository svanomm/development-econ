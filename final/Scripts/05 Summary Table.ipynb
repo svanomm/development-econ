{
 "cells": [
  {
   "cell_type": "code",
   "execution_count": 62,
   "id": "0f7d7046",
   "metadata": {},
   "outputs": [],
   "source": [
    "import pandas as pd\n",
    "import numpy as np\n",
    "import os, pickle, datetime\n",
    "from sklearn.preprocessing import MinMaxScaler\n",
    "import matplotlib.pyplot as plt\n",
    "import seaborn as sns"
   ]
  },
  {
   "cell_type": "code",
   "execution_count": 63,
   "id": "09713e62",
   "metadata": {},
   "outputs": [],
   "source": [
    "# Load and combine the files\n",
    "series = pd.read_csv('../data/WDISeries.csv')\n",
    "series = series[['Series Code', 'Topic', 'Long definition', \n",
    "                 'Unit of measure', 'Periodicity', 'Base Period']]\n",
    "countries = pd.read_csv('../data/WDICountry.csv')\n",
    "countries.dropna(subset = ['Currency Unit'], inplace=True)\n",
    "countries = countries[['Country Code', 'Short Name', 'Region', 'Income Group']]\n",
    "df = pd.read_csv('../data/WDICSV.csv')\n",
    "df = pd.merge(df, series, left_on=['Indicator Code'], right_on=['Series Code'], how='left')\n",
    "df = pd.merge(df, countries, left_on=['Country Code'], right_on=['Country Code'], how='inner')"
   ]
  },
  {
   "cell_type": "code",
   "execution_count": 64,
   "id": "738e6bf3",
   "metadata": {},
   "outputs": [
    {
     "data": {
      "application/vnd.microsoft.datawrangler.viewer.v0+json": {
       "columns": [
        {
         "name": "Indicator Name",
         "rawType": "object",
         "type": "string"
        },
        {
         "name": "count",
         "rawType": "int64",
         "type": "integer"
        }
       ],
       "ref": "f4bd9ce5-fd9e-4b91-8ed7-43c4ed6498b4",
       "rows": [
        [
         "Young people (ages 15-24) newly infected with HIV",
         "217"
        ],
        [
         "Access to clean fuels and technologies for cooking (% of population)",
         "217"
        ],
        [
         "Access to clean fuels and technologies for cooking, rural (% of rural population)",
         "217"
        ],
        [
         "Access to clean fuels and technologies for cooking, urban (% of urban population)",
         "217"
        ],
        [
         "Access to electricity (% of population)",
         "217"
        ],
        [
         "Access to electricity, rural (% of rural population)",
         "217"
        ],
        [
         "Access to electricity, urban (% of urban population)",
         "217"
        ],
        [
         "Account ownership at a financial institution or with a mobile-money-service provider (% of population ages 15+)",
         "217"
        ],
        [
         "Account ownership at a financial institution or with a mobile-money-service provider, female (% of population ages 15+)",
         "217"
        ],
        [
         "Account ownership at a financial institution or with a mobile-money-service provider, male (% of population ages 15+)",
         "217"
        ],
        [
         "Account ownership at a financial institution or with a mobile-money-service provider, older adults (% of population ages 25+)",
         "217"
        ],
        [
         "Account ownership at a financial institution or with a mobile-money-service provider, poorest 40% (% of population ages 15+)",
         "217"
        ],
        [
         "Wage and salaried workers, total (% of total employment) (modeled ILO estimate)",
         "217"
        ],
        [
         "Wage and salaried workers, male (% of male employment) (modeled ILO estimate)",
         "217"
        ],
        [
         "Wage and salaried workers, female (% of female employment) (modeled ILO estimate)",
         "217"
        ],
        [
         "Vulnerable employment, total (% of total employment) (modeled ILO estimate)",
         "217"
        ],
        [
         "Vulnerable employment, male (% of male employment) (modeled ILO estimate)",
         "217"
        ],
        [
         "Vulnerable employment, female (% of female employment) (modeled ILO estimate)",
         "217"
        ],
        [
         "Voice and Accountability: Standard Error",
         "217"
        ],
        [
         "Voice and Accountability: Percentile Rank, Upper Bound of 90% Confidence Interval",
         "217"
        ],
        [
         "Voice and Accountability: Percentile Rank, Lower Bound of 90% Confidence Interval",
         "217"
        ],
        [
         "Voice and Accountability: Percentile Rank",
         "217"
        ],
        [
         "Voice and Accountability: Number of Sources",
         "217"
        ],
        [
         "Voice and Accountability: Estimate",
         "217"
        ],
        [
         "Vitamin A supplementation coverage rate (% of children ages 6-59 months)",
         "217"
        ],
        [
         "Value lost due to electrical outages (% of sales for affected firms)",
         "217"
        ],
        [
         "Use of insecticide-treated bed nets (% of under-5 population)",
         "217"
        ],
        [
         "Use of IMF credit (DOD, current US$)",
         "217"
        ],
        [
         "Adjusted savings: natural resources depletion (% of GNI)",
         "217"
        ],
        [
         "Adjusted savings: mineral depletion (current US$)",
         "217"
        ],
        [
         "Adjusted savings: mineral depletion (% of GNI)",
         "217"
        ],
        [
         "Adjusted savings: gross savings (% of GNI)",
         "217"
        ],
        [
         "Adjusted savings: energy depletion (current US$)",
         "217"
        ],
        [
         "Adjusted savings: energy depletion (% of GNI)",
         "217"
        ],
        [
         "Adjusted savings: education expenditure (current US$)",
         "217"
        ],
        [
         "Adjusted savings: education expenditure (% of GNI)",
         "217"
        ],
        [
         "Adjusted savings: consumption of fixed capital (current US$)",
         "217"
        ],
        [
         "Adjusted savings: consumption of fixed capital (% of GNI)",
         "217"
        ],
        [
         "Adjusted savings: carbon dioxide damage (current US$)",
         "217"
        ],
        [
         "Adjusted savings: carbon dioxide damage (% of GNI)",
         "217"
        ],
        [
         "Adjusted net savings, including particulate emission damage (current US$)",
         "217"
        ],
        [
         "Adjusted net savings, including particulate emission damage (% of GNI)",
         "217"
        ],
        [
         "Adjusted net savings, excluding particulate emission damage (current US$)",
         "217"
        ],
        [
         "Adjusted net savings, excluding particulate emission damage (% of GNI)",
         "217"
        ],
        [
         "Agricultural irrigated land (% of total agricultural land)",
         "217"
        ],
        [
         "Age dependency ratio, young (% of working-age population)",
         "217"
        ],
        [
         "Age dependency ratio, old (% of working-age population)",
         "217"
        ],
        [
         "Age dependency ratio (% of working-age population)",
         "217"
        ],
        [
         "Adults (ages 15-49) newly infected with HIV",
         "217"
        ],
        [
         "Adults (ages 15+) and children (ages 0-14) newly infected with HIV",
         "217"
        ]
       ],
       "shape": {
        "columns": 1,
        "rows": 1516
       }
      },
      "text/plain": [
       "Indicator Name\n",
       "Young people (ages 15-24) newly infected with HIV                                                                                               217\n",
       "Access to clean fuels and technologies for cooking (% of population)                                                                            217\n",
       "Access to clean fuels and technologies for cooking, rural (% of rural population)                                                               217\n",
       "Access to clean fuels and technologies for cooking, urban (% of urban population)                                                               217\n",
       "Access to electricity (% of population)                                                                                                         217\n",
       "                                                                                                                                               ... \n",
       "Adequacy of social protection and labor programs (% of total welfare of beneficiary households)                                                 217\n",
       "Adequacy of social insurance programs (% of total welfare of beneficiary households)                                                            217\n",
       "Account ownership at a financial institution or with a mobile-money-service provider, young adults (% of population ages 15-24)                 217\n",
       "Account ownership at a financial institution or with a mobile-money-service provider, secondary education or more (% of population ages 15+)    217\n",
       "Account ownership at a financial institution or with a mobile-money-service provider, richest 60% (% of population ages 15+)                    217\n",
       "Name: count, Length: 1516, dtype: int64"
      ]
     },
     "execution_count": 64,
     "metadata": {},
     "output_type": "execute_result"
    }
   ],
   "source": [
    "t=df['Indicator Name'].value_counts()\n",
    "t"
   ]
  },
  {
   "cell_type": "code",
   "execution_count": 65,
   "id": "2a8aca09",
   "metadata": {},
   "outputs": [],
   "source": [
    "# Filter the data\n",
    "metrics = [\n",
    "    'Mobile cellular subscriptions (per 100 people)',\n",
    "    'Individuals using the Internet (% of population)',\n",
    "    'GNI per capita, PPP (constant 2021 international $)',\n",
    "    'Literacy rate, adult total (% of people ages 15 and above)'\n",
    "]\n",
    "\n",
    "df = df[df['Indicator Name'].isin(metrics)]\n",
    "\n",
    "countries = ['Kenya', 'Rwanda', 'Ecuador', 'India', 'United States']\n",
    "df = df[df['Country Name'].isin(countries)]\n",
    "\n",
    "cols = ['Country Name', 'Indicator Name', '2010', '2011', '2012', '2013',\n",
    "       '2014', '2015', '2016', '2017', '2018', '2019', '2020', '2021', '2022',\n",
    "       '2023']\n",
    "\n",
    "df = df[cols]"
   ]
  },
  {
   "cell_type": "code",
   "execution_count": 66,
   "id": "2d0a6d97",
   "metadata": {},
   "outputs": [
    {
     "data": {
      "application/vnd.microsoft.datawrangler.viewer.v0+json": {
       "columns": [
        {
         "name": "index",
         "rawType": "int64",
         "type": "integer"
        },
        {
         "name": "Country Name",
         "rawType": "object",
         "type": "string"
        },
        {
         "name": "Indicator Name",
         "rawType": "object",
         "type": "string"
        },
        {
         "name": "2010",
         "rawType": "float64",
         "type": "float"
        },
        {
         "name": "2011",
         "rawType": "float64",
         "type": "float"
        },
        {
         "name": "2012",
         "rawType": "float64",
         "type": "float"
        },
        {
         "name": "2013",
         "rawType": "float64",
         "type": "float"
        },
        {
         "name": "2014",
         "rawType": "float64",
         "type": "float"
        },
        {
         "name": "2015",
         "rawType": "float64",
         "type": "float"
        },
        {
         "name": "2016",
         "rawType": "float64",
         "type": "float"
        },
        {
         "name": "2017",
         "rawType": "float64",
         "type": "float"
        },
        {
         "name": "2018",
         "rawType": "float64",
         "type": "float"
        },
        {
         "name": "2019",
         "rawType": "float64",
         "type": "float"
        },
        {
         "name": "2020",
         "rawType": "float64",
         "type": "float"
        },
        {
         "name": "2021",
         "rawType": "float64",
         "type": "float"
        },
        {
         "name": "2022",
         "rawType": "float64",
         "type": "float"
        },
        {
         "name": "2023",
         "rawType": "float64",
         "type": "float"
        }
       ],
       "ref": "d32d7ca1-9680-406a-8198-c6fc8f2e2ec9",
       "rows": [
        [
         "86961",
         "Ecuador",
         "GNI per capita, PPP (constant 2021 international $)",
         "11509.92642358938",
         "12559.8106508871",
         "13022.760619647794",
         "13750.870061192638",
         "14141.678095805331",
         "13407.531628461098",
         "13191.817865400308",
         "13888.37634767441",
         "13787.762211085754",
         "13558.995493586315",
         "11915.734379828322",
         "13289.08976971241",
         "13879.40361341025",
         "13953.893780202314"
        ],
        [
         "87077",
         "Ecuador",
         "Individuals using the Internet (% of population)",
         "29.0",
         "31.4",
         "35.099999999999994",
         "40.3",
         "45.6",
         "48.9",
         "54.1",
         "55.8",
         "57.49999999999999",
         "59.2",
         "70.7",
         "69.1",
         "69.69999999999999",
         "72.7"
        ],
        [
         "87168",
         "Ecuador",
         "Literacy rate, adult total (% of people ages 15 and above)",
         "92.0",
         "92.0",
         "92.0",
         "93.0",
         "94.0",
         "94.0",
         "94.0",
         "93.0",
         null,
         null,
         "94.0",
         "94.0",
         "94.0",
         null
        ],
        [
         "87249",
         "Ecuador",
         "Mobile cellular subscriptions (per 100 people)",
         "98.0369",
         "100.042",
         "105.68",
         "105.182",
         "103.559",
         "79.5746",
         "84.1088",
         "87.4214",
         "92.5118",
         "91.4249",
         "88.2555",
         "94.9506",
         "98.1309",
         "101.032"
        ],
        [
         "135473",
         "India",
         "GNI per capita, PPP (constant 2021 international $)",
         "5108.182693208714",
         "5291.765708470077",
         "5467.823986456303",
         "5687.583866909654",
         "6019.476852284617",
         "6454.492855917326",
         "6931.293089985346",
         "7405.774307431306",
         "7712.998433456579",
         "8065.395102725715",
         "7551.830308782446",
         "7955.246983852825",
         "8376.566658438665",
         "9439.689489699587"
        ],
        [
         "135589",
         "India",
         "Individuals using the Internet (% of population)",
         "7.5",
         "10.1",
         "11.1",
         "12.3",
         "13.5",
         "14.9",
         "16.5",
         "18.2",
         "20.1",
         "29.5",
         "43.4",
         null,
         "55.900000000000006",
         null
        ],
        [
         "135680",
         "India",
         "Literacy rate, adult total (% of people ages 15 and above)",
         null,
         "69.0",
         null,
         null,
         null,
         null,
         null,
         null,
         null,
         null,
         null,
         null,
         "76.0",
         "77.0"
        ],
        [
         "135761",
         "India",
         "Mobile cellular subscriptions (per 100 people)",
         "60.4906",
         "70.8726",
         "67.6264",
         "68.3967",
         "71.9367",
         "75.3793",
         "83.9178",
         "85.9704",
         "85.5501",
         "82.8981",
         "82.254",
         "81.604",
         "80.1818",
         "80.5632"
        ],
        [
         "153665",
         "Kenya",
         "GNI per capita, PPP (constant 2021 international $)",
         "3528.746242212644",
         "3573.0745164277523",
         "3698.906411531018",
         "3726.8909475612",
         "3873.384000703092",
         "4101.343182494035",
         "4596.509862892803",
         "4655.682099005001",
         "4845.161045061051",
         "5026.86382479111",
         "4993.717922242901",
         "5264.4410856953145",
         "5370.977855966771",
         "5538.849753781919"
        ],
        [
         "153781",
         "Kenya",
         "Individuals using the Internet (% of population)",
         "7.199999999999999",
         "8.799999999999999",
         "10.5",
         "13.0",
         "16.5",
         "16.6",
         "16.6",
         "17.8",
         "19.5",
         "22.7",
         null,
         null,
         null,
         "35.0"
        ],
        [
         "153872",
         "Kenya",
         "Literacy rate, adult total (% of people ages 15 and above)",
         null,
         null,
         null,
         null,
         "78.733039855957",
         null,
         null,
         null,
         null,
         null,
         null,
         null,
         "82.879997253418",
         null
        ],
        [
         "153953",
         "Kenya",
         "Mobile cellular subscriptions (per 100 people)",
         "60.0234",
         "65.673",
         "70.0227",
         "70.7541",
         "73.0327",
         "80.0958",
         "80.9772",
         "87.0265",
         "98.5945",
         "106.548",
         "117.603",
         "122.298",
         "121.169",
         "120.612"
        ],
        [
         "246141",
         "Rwanda",
         "GNI per capita, PPP (constant 2021 international $)",
         "1713.1475067094773",
         "1831.813038161748",
         "1934.047142077116",
         "1972.430987921703",
         "2058.960388497234",
         "2227.231909854921",
         "2278.252409227129",
         "2324.2949342596407",
         "2418.6430433759547",
         "2589.827096628176",
         "2455.937075641865",
         "2677.652009449409",
         "2786.26086333051",
         "2937.464936410558"
        ],
        [
         "246257",
         "Rwanda",
         "Individuals using the Internet (% of population)",
         "8.0",
         "7.000000000000001",
         "8.02",
         "9.0",
         "10.6",
         "12.5",
         "14.6",
         "17.2",
         "19.2",
         "21.4",
         "23.8",
         "24.4",
         "31.2",
         "34.2"
        ],
        [
         "246348",
         "Rwanda",
         "Literacy rate, adult total (% of people ages 15 and above)",
         "65.8522720336914",
         null,
         "68.0",
         null,
         "71.0",
         null,
         null,
         null,
         "73.0",
         null,
         "80.0508575439453",
         null,
         "79.0",
         null
        ],
        [
         "246429",
         "Rwanda",
         "Mobile cellular subscriptions (per 100 people)",
         "34.3954",
         "42.0494",
         "52.5467",
         "60.2989",
         "68.167",
         "75.2543",
         "74.8502",
         "72.2765",
         "77.6795",
         "75.5985",
         "81.2379",
         "81.6382",
         "80.5952",
         "91.4623"
        ],
        [
         "312845",
         "United States",
         "GNI per capita, PPP (constant 2021 international $)",
         "60544.86480861369",
         "61098.91496620904",
         "61944.23117300852",
         "62738.98250103326",
         "63795.01080643275",
         "65072.09465154221",
         "65756.57612440409",
         "67096.27942799668",
         "68667.27915871817",
         "70014.82783454469",
         "68007.52995827736",
         "71767.0587898046",
         "73096.32780407557",
         "74427.56966185807"
        ],
        [
         "312961",
         "United States",
         "Individuals using the Internet (% of population)",
         "71.7",
         "69.69999999999999",
         "74.7",
         "71.39999999999999",
         "73.0",
         "74.6",
         "85.5",
         "87.3",
         "88.5",
         "89.4",
         "90.3",
         "91.3",
         "92.2",
         "93.1"
        ],
        [
         "313052",
         "United States",
         "Literacy rate, adult total (% of people ages 15 and above)",
         null,
         null,
         null,
         null,
         null,
         null,
         null,
         null,
         null,
         null,
         null,
         null,
         null,
         null
        ],
        [
         "313133",
         "United States",
         "Mobile cellular subscriptions (per 100 people)",
         "91.6593",
         "94.683",
         "96.1284",
         "97.0595",
         "99.8396",
         "101.832",
         "102.752",
         "102.381",
         "103.935",
         "105.321",
         "103.855",
         "106.325",
         "108.786",
         "112.411"
        ]
       ],
       "shape": {
        "columns": 16,
        "rows": 20
       }
      },
      "text/html": [
       "<div>\n",
       "<style scoped>\n",
       "    .dataframe tbody tr th:only-of-type {\n",
       "        vertical-align: middle;\n",
       "    }\n",
       "\n",
       "    .dataframe tbody tr th {\n",
       "        vertical-align: top;\n",
       "    }\n",
       "\n",
       "    .dataframe thead th {\n",
       "        text-align: right;\n",
       "    }\n",
       "</style>\n",
       "<table border=\"1\" class=\"dataframe\">\n",
       "  <thead>\n",
       "    <tr style=\"text-align: right;\">\n",
       "      <th></th>\n",
       "      <th>Country Name</th>\n",
       "      <th>Indicator Name</th>\n",
       "      <th>2010</th>\n",
       "      <th>2011</th>\n",
       "      <th>2012</th>\n",
       "      <th>2013</th>\n",
       "      <th>2014</th>\n",
       "      <th>2015</th>\n",
       "      <th>2016</th>\n",
       "      <th>2017</th>\n",
       "      <th>2018</th>\n",
       "      <th>2019</th>\n",
       "      <th>2020</th>\n",
       "      <th>2021</th>\n",
       "      <th>2022</th>\n",
       "      <th>2023</th>\n",
       "    </tr>\n",
       "  </thead>\n",
       "  <tbody>\n",
       "    <tr>\n",
       "      <th>86961</th>\n",
       "      <td>Ecuador</td>\n",
       "      <td>GNI per capita, PPP (constant 2021 internation...</td>\n",
       "      <td>11509.926424</td>\n",
       "      <td>12559.810651</td>\n",
       "      <td>13022.760620</td>\n",
       "      <td>13750.870061</td>\n",
       "      <td>14141.678096</td>\n",
       "      <td>13407.531628</td>\n",
       "      <td>13191.817865</td>\n",
       "      <td>13888.376348</td>\n",
       "      <td>13787.762211</td>\n",
       "      <td>13558.995494</td>\n",
       "      <td>11915.734380</td>\n",
       "      <td>13289.089770</td>\n",
       "      <td>13879.403613</td>\n",
       "      <td>13953.893780</td>\n",
       "    </tr>\n",
       "    <tr>\n",
       "      <th>87077</th>\n",
       "      <td>Ecuador</td>\n",
       "      <td>Individuals using the Internet (% of population)</td>\n",
       "      <td>29.000000</td>\n",
       "      <td>31.400000</td>\n",
       "      <td>35.100000</td>\n",
       "      <td>40.300000</td>\n",
       "      <td>45.600000</td>\n",
       "      <td>48.900000</td>\n",
       "      <td>54.100000</td>\n",
       "      <td>55.800000</td>\n",
       "      <td>57.500000</td>\n",
       "      <td>59.200000</td>\n",
       "      <td>70.700000</td>\n",
       "      <td>69.100000</td>\n",
       "      <td>69.700000</td>\n",
       "      <td>72.700000</td>\n",
       "    </tr>\n",
       "    <tr>\n",
       "      <th>87168</th>\n",
       "      <td>Ecuador</td>\n",
       "      <td>Literacy rate, adult total (% of people ages 1...</td>\n",
       "      <td>92.000000</td>\n",
       "      <td>92.000000</td>\n",
       "      <td>92.000000</td>\n",
       "      <td>93.000000</td>\n",
       "      <td>94.000000</td>\n",
       "      <td>94.000000</td>\n",
       "      <td>94.000000</td>\n",
       "      <td>93.000000</td>\n",
       "      <td>NaN</td>\n",
       "      <td>NaN</td>\n",
       "      <td>94.000000</td>\n",
       "      <td>94.000000</td>\n",
       "      <td>94.000000</td>\n",
       "      <td>NaN</td>\n",
       "    </tr>\n",
       "    <tr>\n",
       "      <th>87249</th>\n",
       "      <td>Ecuador</td>\n",
       "      <td>Mobile cellular subscriptions (per 100 people)</td>\n",
       "      <td>98.036900</td>\n",
       "      <td>100.042000</td>\n",
       "      <td>105.680000</td>\n",
       "      <td>105.182000</td>\n",
       "      <td>103.559000</td>\n",
       "      <td>79.574600</td>\n",
       "      <td>84.108800</td>\n",
       "      <td>87.421400</td>\n",
       "      <td>92.511800</td>\n",
       "      <td>91.424900</td>\n",
       "      <td>88.255500</td>\n",
       "      <td>94.950600</td>\n",
       "      <td>98.130900</td>\n",
       "      <td>101.032000</td>\n",
       "    </tr>\n",
       "    <tr>\n",
       "      <th>135473</th>\n",
       "      <td>India</td>\n",
       "      <td>GNI per capita, PPP (constant 2021 internation...</td>\n",
       "      <td>5108.182693</td>\n",
       "      <td>5291.765708</td>\n",
       "      <td>5467.823986</td>\n",
       "      <td>5687.583867</td>\n",
       "      <td>6019.476852</td>\n",
       "      <td>6454.492856</td>\n",
       "      <td>6931.293090</td>\n",
       "      <td>7405.774307</td>\n",
       "      <td>7712.998433</td>\n",
       "      <td>8065.395103</td>\n",
       "      <td>7551.830309</td>\n",
       "      <td>7955.246984</td>\n",
       "      <td>8376.566658</td>\n",
       "      <td>9439.689490</td>\n",
       "    </tr>\n",
       "    <tr>\n",
       "      <th>135589</th>\n",
       "      <td>India</td>\n",
       "      <td>Individuals using the Internet (% of population)</td>\n",
       "      <td>7.500000</td>\n",
       "      <td>10.100000</td>\n",
       "      <td>11.100000</td>\n",
       "      <td>12.300000</td>\n",
       "      <td>13.500000</td>\n",
       "      <td>14.900000</td>\n",
       "      <td>16.500000</td>\n",
       "      <td>18.200000</td>\n",
       "      <td>20.100000</td>\n",
       "      <td>29.500000</td>\n",
       "      <td>43.400000</td>\n",
       "      <td>NaN</td>\n",
       "      <td>55.900000</td>\n",
       "      <td>NaN</td>\n",
       "    </tr>\n",
       "    <tr>\n",
       "      <th>135680</th>\n",
       "      <td>India</td>\n",
       "      <td>Literacy rate, adult total (% of people ages 1...</td>\n",
       "      <td>NaN</td>\n",
       "      <td>69.000000</td>\n",
       "      <td>NaN</td>\n",
       "      <td>NaN</td>\n",
       "      <td>NaN</td>\n",
       "      <td>NaN</td>\n",
       "      <td>NaN</td>\n",
       "      <td>NaN</td>\n",
       "      <td>NaN</td>\n",
       "      <td>NaN</td>\n",
       "      <td>NaN</td>\n",
       "      <td>NaN</td>\n",
       "      <td>76.000000</td>\n",
       "      <td>77.000000</td>\n",
       "    </tr>\n",
       "    <tr>\n",
       "      <th>135761</th>\n",
       "      <td>India</td>\n",
       "      <td>Mobile cellular subscriptions (per 100 people)</td>\n",
       "      <td>60.490600</td>\n",
       "      <td>70.872600</td>\n",
       "      <td>67.626400</td>\n",
       "      <td>68.396700</td>\n",
       "      <td>71.936700</td>\n",
       "      <td>75.379300</td>\n",
       "      <td>83.917800</td>\n",
       "      <td>85.970400</td>\n",
       "      <td>85.550100</td>\n",
       "      <td>82.898100</td>\n",
       "      <td>82.254000</td>\n",
       "      <td>81.604000</td>\n",
       "      <td>80.181800</td>\n",
       "      <td>80.563200</td>\n",
       "    </tr>\n",
       "    <tr>\n",
       "      <th>153665</th>\n",
       "      <td>Kenya</td>\n",
       "      <td>GNI per capita, PPP (constant 2021 internation...</td>\n",
       "      <td>3528.746242</td>\n",
       "      <td>3573.074516</td>\n",
       "      <td>3698.906412</td>\n",
       "      <td>3726.890948</td>\n",
       "      <td>3873.384001</td>\n",
       "      <td>4101.343182</td>\n",
       "      <td>4596.509863</td>\n",
       "      <td>4655.682099</td>\n",
       "      <td>4845.161045</td>\n",
       "      <td>5026.863825</td>\n",
       "      <td>4993.717922</td>\n",
       "      <td>5264.441086</td>\n",
       "      <td>5370.977856</td>\n",
       "      <td>5538.849754</td>\n",
       "    </tr>\n",
       "    <tr>\n",
       "      <th>153781</th>\n",
       "      <td>Kenya</td>\n",
       "      <td>Individuals using the Internet (% of population)</td>\n",
       "      <td>7.200000</td>\n",
       "      <td>8.800000</td>\n",
       "      <td>10.500000</td>\n",
       "      <td>13.000000</td>\n",
       "      <td>16.500000</td>\n",
       "      <td>16.600000</td>\n",
       "      <td>16.600000</td>\n",
       "      <td>17.800000</td>\n",
       "      <td>19.500000</td>\n",
       "      <td>22.700000</td>\n",
       "      <td>NaN</td>\n",
       "      <td>NaN</td>\n",
       "      <td>NaN</td>\n",
       "      <td>35.000000</td>\n",
       "    </tr>\n",
       "    <tr>\n",
       "      <th>153872</th>\n",
       "      <td>Kenya</td>\n",
       "      <td>Literacy rate, adult total (% of people ages 1...</td>\n",
       "      <td>NaN</td>\n",
       "      <td>NaN</td>\n",
       "      <td>NaN</td>\n",
       "      <td>NaN</td>\n",
       "      <td>78.733040</td>\n",
       "      <td>NaN</td>\n",
       "      <td>NaN</td>\n",
       "      <td>NaN</td>\n",
       "      <td>NaN</td>\n",
       "      <td>NaN</td>\n",
       "      <td>NaN</td>\n",
       "      <td>NaN</td>\n",
       "      <td>82.879997</td>\n",
       "      <td>NaN</td>\n",
       "    </tr>\n",
       "    <tr>\n",
       "      <th>153953</th>\n",
       "      <td>Kenya</td>\n",
       "      <td>Mobile cellular subscriptions (per 100 people)</td>\n",
       "      <td>60.023400</td>\n",
       "      <td>65.673000</td>\n",
       "      <td>70.022700</td>\n",
       "      <td>70.754100</td>\n",
       "      <td>73.032700</td>\n",
       "      <td>80.095800</td>\n",
       "      <td>80.977200</td>\n",
       "      <td>87.026500</td>\n",
       "      <td>98.594500</td>\n",
       "      <td>106.548000</td>\n",
       "      <td>117.603000</td>\n",
       "      <td>122.298000</td>\n",
       "      <td>121.169000</td>\n",
       "      <td>120.612000</td>\n",
       "    </tr>\n",
       "    <tr>\n",
       "      <th>246141</th>\n",
       "      <td>Rwanda</td>\n",
       "      <td>GNI per capita, PPP (constant 2021 internation...</td>\n",
       "      <td>1713.147507</td>\n",
       "      <td>1831.813038</td>\n",
       "      <td>1934.047142</td>\n",
       "      <td>1972.430988</td>\n",
       "      <td>2058.960388</td>\n",
       "      <td>2227.231910</td>\n",
       "      <td>2278.252409</td>\n",
       "      <td>2324.294934</td>\n",
       "      <td>2418.643043</td>\n",
       "      <td>2589.827097</td>\n",
       "      <td>2455.937076</td>\n",
       "      <td>2677.652009</td>\n",
       "      <td>2786.260863</td>\n",
       "      <td>2937.464936</td>\n",
       "    </tr>\n",
       "    <tr>\n",
       "      <th>246257</th>\n",
       "      <td>Rwanda</td>\n",
       "      <td>Individuals using the Internet (% of population)</td>\n",
       "      <td>8.000000</td>\n",
       "      <td>7.000000</td>\n",
       "      <td>8.020000</td>\n",
       "      <td>9.000000</td>\n",
       "      <td>10.600000</td>\n",
       "      <td>12.500000</td>\n",
       "      <td>14.600000</td>\n",
       "      <td>17.200000</td>\n",
       "      <td>19.200000</td>\n",
       "      <td>21.400000</td>\n",
       "      <td>23.800000</td>\n",
       "      <td>24.400000</td>\n",
       "      <td>31.200000</td>\n",
       "      <td>34.200000</td>\n",
       "    </tr>\n",
       "    <tr>\n",
       "      <th>246348</th>\n",
       "      <td>Rwanda</td>\n",
       "      <td>Literacy rate, adult total (% of people ages 1...</td>\n",
       "      <td>65.852272</td>\n",
       "      <td>NaN</td>\n",
       "      <td>68.000000</td>\n",
       "      <td>NaN</td>\n",
       "      <td>71.000000</td>\n",
       "      <td>NaN</td>\n",
       "      <td>NaN</td>\n",
       "      <td>NaN</td>\n",
       "      <td>73.000000</td>\n",
       "      <td>NaN</td>\n",
       "      <td>80.050858</td>\n",
       "      <td>NaN</td>\n",
       "      <td>79.000000</td>\n",
       "      <td>NaN</td>\n",
       "    </tr>\n",
       "    <tr>\n",
       "      <th>246429</th>\n",
       "      <td>Rwanda</td>\n",
       "      <td>Mobile cellular subscriptions (per 100 people)</td>\n",
       "      <td>34.395400</td>\n",
       "      <td>42.049400</td>\n",
       "      <td>52.546700</td>\n",
       "      <td>60.298900</td>\n",
       "      <td>68.167000</td>\n",
       "      <td>75.254300</td>\n",
       "      <td>74.850200</td>\n",
       "      <td>72.276500</td>\n",
       "      <td>77.679500</td>\n",
       "      <td>75.598500</td>\n",
       "      <td>81.237900</td>\n",
       "      <td>81.638200</td>\n",
       "      <td>80.595200</td>\n",
       "      <td>91.462300</td>\n",
       "    </tr>\n",
       "    <tr>\n",
       "      <th>312845</th>\n",
       "      <td>United States</td>\n",
       "      <td>GNI per capita, PPP (constant 2021 internation...</td>\n",
       "      <td>60544.864809</td>\n",
       "      <td>61098.914966</td>\n",
       "      <td>61944.231173</td>\n",
       "      <td>62738.982501</td>\n",
       "      <td>63795.010806</td>\n",
       "      <td>65072.094652</td>\n",
       "      <td>65756.576124</td>\n",
       "      <td>67096.279428</td>\n",
       "      <td>68667.279159</td>\n",
       "      <td>70014.827835</td>\n",
       "      <td>68007.529958</td>\n",
       "      <td>71767.058790</td>\n",
       "      <td>73096.327804</td>\n",
       "      <td>74427.569662</td>\n",
       "    </tr>\n",
       "    <tr>\n",
       "      <th>312961</th>\n",
       "      <td>United States</td>\n",
       "      <td>Individuals using the Internet (% of population)</td>\n",
       "      <td>71.700000</td>\n",
       "      <td>69.700000</td>\n",
       "      <td>74.700000</td>\n",
       "      <td>71.400000</td>\n",
       "      <td>73.000000</td>\n",
       "      <td>74.600000</td>\n",
       "      <td>85.500000</td>\n",
       "      <td>87.300000</td>\n",
       "      <td>88.500000</td>\n",
       "      <td>89.400000</td>\n",
       "      <td>90.300000</td>\n",
       "      <td>91.300000</td>\n",
       "      <td>92.200000</td>\n",
       "      <td>93.100000</td>\n",
       "    </tr>\n",
       "    <tr>\n",
       "      <th>313052</th>\n",
       "      <td>United States</td>\n",
       "      <td>Literacy rate, adult total (% of people ages 1...</td>\n",
       "      <td>NaN</td>\n",
       "      <td>NaN</td>\n",
       "      <td>NaN</td>\n",
       "      <td>NaN</td>\n",
       "      <td>NaN</td>\n",
       "      <td>NaN</td>\n",
       "      <td>NaN</td>\n",
       "      <td>NaN</td>\n",
       "      <td>NaN</td>\n",
       "      <td>NaN</td>\n",
       "      <td>NaN</td>\n",
       "      <td>NaN</td>\n",
       "      <td>NaN</td>\n",
       "      <td>NaN</td>\n",
       "    </tr>\n",
       "    <tr>\n",
       "      <th>313133</th>\n",
       "      <td>United States</td>\n",
       "      <td>Mobile cellular subscriptions (per 100 people)</td>\n",
       "      <td>91.659300</td>\n",
       "      <td>94.683000</td>\n",
       "      <td>96.128400</td>\n",
       "      <td>97.059500</td>\n",
       "      <td>99.839600</td>\n",
       "      <td>101.832000</td>\n",
       "      <td>102.752000</td>\n",
       "      <td>102.381000</td>\n",
       "      <td>103.935000</td>\n",
       "      <td>105.321000</td>\n",
       "      <td>103.855000</td>\n",
       "      <td>106.325000</td>\n",
       "      <td>108.786000</td>\n",
       "      <td>112.411000</td>\n",
       "    </tr>\n",
       "  </tbody>\n",
       "</table>\n",
       "</div>"
      ],
      "text/plain": [
       "         Country Name                                     Indicator Name  \\\n",
       "86961         Ecuador  GNI per capita, PPP (constant 2021 internation...   \n",
       "87077         Ecuador   Individuals using the Internet (% of population)   \n",
       "87168         Ecuador  Literacy rate, adult total (% of people ages 1...   \n",
       "87249         Ecuador     Mobile cellular subscriptions (per 100 people)   \n",
       "135473          India  GNI per capita, PPP (constant 2021 internation...   \n",
       "135589          India   Individuals using the Internet (% of population)   \n",
       "135680          India  Literacy rate, adult total (% of people ages 1...   \n",
       "135761          India     Mobile cellular subscriptions (per 100 people)   \n",
       "153665          Kenya  GNI per capita, PPP (constant 2021 internation...   \n",
       "153781          Kenya   Individuals using the Internet (% of population)   \n",
       "153872          Kenya  Literacy rate, adult total (% of people ages 1...   \n",
       "153953          Kenya     Mobile cellular subscriptions (per 100 people)   \n",
       "246141         Rwanda  GNI per capita, PPP (constant 2021 internation...   \n",
       "246257         Rwanda   Individuals using the Internet (% of population)   \n",
       "246348         Rwanda  Literacy rate, adult total (% of people ages 1...   \n",
       "246429         Rwanda     Mobile cellular subscriptions (per 100 people)   \n",
       "312845  United States  GNI per capita, PPP (constant 2021 internation...   \n",
       "312961  United States   Individuals using the Internet (% of population)   \n",
       "313052  United States  Literacy rate, adult total (% of people ages 1...   \n",
       "313133  United States     Mobile cellular subscriptions (per 100 people)   \n",
       "\n",
       "                2010          2011          2012          2013          2014  \\\n",
       "86961   11509.926424  12559.810651  13022.760620  13750.870061  14141.678096   \n",
       "87077      29.000000     31.400000     35.100000     40.300000     45.600000   \n",
       "87168      92.000000     92.000000     92.000000     93.000000     94.000000   \n",
       "87249      98.036900    100.042000    105.680000    105.182000    103.559000   \n",
       "135473   5108.182693   5291.765708   5467.823986   5687.583867   6019.476852   \n",
       "135589      7.500000     10.100000     11.100000     12.300000     13.500000   \n",
       "135680           NaN     69.000000           NaN           NaN           NaN   \n",
       "135761     60.490600     70.872600     67.626400     68.396700     71.936700   \n",
       "153665   3528.746242   3573.074516   3698.906412   3726.890948   3873.384001   \n",
       "153781      7.200000      8.800000     10.500000     13.000000     16.500000   \n",
       "153872           NaN           NaN           NaN           NaN     78.733040   \n",
       "153953     60.023400     65.673000     70.022700     70.754100     73.032700   \n",
       "246141   1713.147507   1831.813038   1934.047142   1972.430988   2058.960388   \n",
       "246257      8.000000      7.000000      8.020000      9.000000     10.600000   \n",
       "246348     65.852272           NaN     68.000000           NaN     71.000000   \n",
       "246429     34.395400     42.049400     52.546700     60.298900     68.167000   \n",
       "312845  60544.864809  61098.914966  61944.231173  62738.982501  63795.010806   \n",
       "312961     71.700000     69.700000     74.700000     71.400000     73.000000   \n",
       "313052           NaN           NaN           NaN           NaN           NaN   \n",
       "313133     91.659300     94.683000     96.128400     97.059500     99.839600   \n",
       "\n",
       "                2015          2016          2017          2018          2019  \\\n",
       "86961   13407.531628  13191.817865  13888.376348  13787.762211  13558.995494   \n",
       "87077      48.900000     54.100000     55.800000     57.500000     59.200000   \n",
       "87168      94.000000     94.000000     93.000000           NaN           NaN   \n",
       "87249      79.574600     84.108800     87.421400     92.511800     91.424900   \n",
       "135473   6454.492856   6931.293090   7405.774307   7712.998433   8065.395103   \n",
       "135589     14.900000     16.500000     18.200000     20.100000     29.500000   \n",
       "135680           NaN           NaN           NaN           NaN           NaN   \n",
       "135761     75.379300     83.917800     85.970400     85.550100     82.898100   \n",
       "153665   4101.343182   4596.509863   4655.682099   4845.161045   5026.863825   \n",
       "153781     16.600000     16.600000     17.800000     19.500000     22.700000   \n",
       "153872           NaN           NaN           NaN           NaN           NaN   \n",
       "153953     80.095800     80.977200     87.026500     98.594500    106.548000   \n",
       "246141   2227.231910   2278.252409   2324.294934   2418.643043   2589.827097   \n",
       "246257     12.500000     14.600000     17.200000     19.200000     21.400000   \n",
       "246348           NaN           NaN           NaN     73.000000           NaN   \n",
       "246429     75.254300     74.850200     72.276500     77.679500     75.598500   \n",
       "312845  65072.094652  65756.576124  67096.279428  68667.279159  70014.827835   \n",
       "312961     74.600000     85.500000     87.300000     88.500000     89.400000   \n",
       "313052           NaN           NaN           NaN           NaN           NaN   \n",
       "313133    101.832000    102.752000    102.381000    103.935000    105.321000   \n",
       "\n",
       "                2020          2021          2022          2023  \n",
       "86961   11915.734380  13289.089770  13879.403613  13953.893780  \n",
       "87077      70.700000     69.100000     69.700000     72.700000  \n",
       "87168      94.000000     94.000000     94.000000           NaN  \n",
       "87249      88.255500     94.950600     98.130900    101.032000  \n",
       "135473   7551.830309   7955.246984   8376.566658   9439.689490  \n",
       "135589     43.400000           NaN     55.900000           NaN  \n",
       "135680           NaN           NaN     76.000000     77.000000  \n",
       "135761     82.254000     81.604000     80.181800     80.563200  \n",
       "153665   4993.717922   5264.441086   5370.977856   5538.849754  \n",
       "153781           NaN           NaN           NaN     35.000000  \n",
       "153872           NaN           NaN     82.879997           NaN  \n",
       "153953    117.603000    122.298000    121.169000    120.612000  \n",
       "246141   2455.937076   2677.652009   2786.260863   2937.464936  \n",
       "246257     23.800000     24.400000     31.200000     34.200000  \n",
       "246348     80.050858           NaN     79.000000           NaN  \n",
       "246429     81.237900     81.638200     80.595200     91.462300  \n",
       "312845  68007.529958  71767.058790  73096.327804  74427.569662  \n",
       "312961     90.300000     91.300000     92.200000     93.100000  \n",
       "313052           NaN           NaN           NaN           NaN  \n",
       "313133    103.855000    106.325000    108.786000    112.411000  "
      ]
     },
     "execution_count": 66,
     "metadata": {},
     "output_type": "execute_result"
    }
   ],
   "source": [
    "df"
   ]
  },
  {
   "cell_type": "code",
   "execution_count": 67,
   "id": "233d9c4d",
   "metadata": {},
   "outputs": [],
   "source": [
    "df_long = df.melt(id_vars=['Country Name', 'Indicator Name'], \n",
    "                  value_vars=[str(y) for y in range(2010, 2024)],\n",
    "                  var_name='Year', value_name='Value')"
   ]
  },
  {
   "cell_type": "code",
   "execution_count": 68,
   "id": "f8cf4cee",
   "metadata": {},
   "outputs": [
    {
     "data": {
      "application/vnd.microsoft.datawrangler.viewer.v0+json": {
       "columns": [
        {
         "name": "index",
         "rawType": "int64",
         "type": "integer"
        },
        {
         "name": "Country Name",
         "rawType": "object",
         "type": "string"
        },
        {
         "name": "Indicator Name",
         "rawType": "object",
         "type": "string"
        },
        {
         "name": "Year",
         "rawType": "object",
         "type": "string"
        },
        {
         "name": "Value",
         "rawType": "float64",
         "type": "float"
        }
       ],
       "ref": "fd878d7e-23cd-47ba-bd4b-7228e806a6fd",
       "rows": [
        [
         "0",
         "Ecuador",
         "GNI per capita, PPP (constant 2021 international $)",
         "2010",
         "11509.92642358938"
        ],
        [
         "1",
         "Ecuador",
         "Individuals using the Internet (% of population)",
         "2010",
         "29.0"
        ],
        [
         "2",
         "Ecuador",
         "Literacy rate, adult total (% of people ages 15 and above)",
         "2010",
         "92.0"
        ],
        [
         "3",
         "Ecuador",
         "Mobile cellular subscriptions (per 100 people)",
         "2010",
         "98.0369"
        ],
        [
         "4",
         "India",
         "GNI per capita, PPP (constant 2021 international $)",
         "2010",
         "5108.182693208714"
        ],
        [
         "5",
         "India",
         "Individuals using the Internet (% of population)",
         "2010",
         "7.5"
        ],
        [
         "6",
         "India",
         "Literacy rate, adult total (% of people ages 15 and above)",
         "2010",
         null
        ],
        [
         "7",
         "India",
         "Mobile cellular subscriptions (per 100 people)",
         "2010",
         "60.4906"
        ],
        [
         "8",
         "Kenya",
         "GNI per capita, PPP (constant 2021 international $)",
         "2010",
         "3528.746242212644"
        ],
        [
         "9",
         "Kenya",
         "Individuals using the Internet (% of population)",
         "2010",
         "7.199999999999999"
        ],
        [
         "10",
         "Kenya",
         "Literacy rate, adult total (% of people ages 15 and above)",
         "2010",
         null
        ],
        [
         "11",
         "Kenya",
         "Mobile cellular subscriptions (per 100 people)",
         "2010",
         "60.0234"
        ],
        [
         "12",
         "Rwanda",
         "GNI per capita, PPP (constant 2021 international $)",
         "2010",
         "1713.1475067094773"
        ],
        [
         "13",
         "Rwanda",
         "Individuals using the Internet (% of population)",
         "2010",
         "8.0"
        ],
        [
         "14",
         "Rwanda",
         "Literacy rate, adult total (% of people ages 15 and above)",
         "2010",
         "65.8522720336914"
        ],
        [
         "15",
         "Rwanda",
         "Mobile cellular subscriptions (per 100 people)",
         "2010",
         "34.3954"
        ],
        [
         "16",
         "United States",
         "GNI per capita, PPP (constant 2021 international $)",
         "2010",
         "60544.86480861369"
        ],
        [
         "17",
         "United States",
         "Individuals using the Internet (% of population)",
         "2010",
         "71.7"
        ],
        [
         "18",
         "United States",
         "Literacy rate, adult total (% of people ages 15 and above)",
         "2010",
         null
        ],
        [
         "19",
         "United States",
         "Mobile cellular subscriptions (per 100 people)",
         "2010",
         "91.6593"
        ],
        [
         "20",
         "Ecuador",
         "GNI per capita, PPP (constant 2021 international $)",
         "2011",
         "12559.8106508871"
        ],
        [
         "21",
         "Ecuador",
         "Individuals using the Internet (% of population)",
         "2011",
         "31.4"
        ],
        [
         "22",
         "Ecuador",
         "Literacy rate, adult total (% of people ages 15 and above)",
         "2011",
         "92.0"
        ],
        [
         "23",
         "Ecuador",
         "Mobile cellular subscriptions (per 100 people)",
         "2011",
         "100.042"
        ],
        [
         "24",
         "India",
         "GNI per capita, PPP (constant 2021 international $)",
         "2011",
         "5291.765708470077"
        ],
        [
         "25",
         "India",
         "Individuals using the Internet (% of population)",
         "2011",
         "10.1"
        ],
        [
         "26",
         "India",
         "Literacy rate, adult total (% of people ages 15 and above)",
         "2011",
         "69.0"
        ],
        [
         "27",
         "India",
         "Mobile cellular subscriptions (per 100 people)",
         "2011",
         "70.8726"
        ],
        [
         "28",
         "Kenya",
         "GNI per capita, PPP (constant 2021 international $)",
         "2011",
         "3573.0745164277523"
        ],
        [
         "29",
         "Kenya",
         "Individuals using the Internet (% of population)",
         "2011",
         "8.799999999999999"
        ],
        [
         "30",
         "Kenya",
         "Literacy rate, adult total (% of people ages 15 and above)",
         "2011",
         null
        ],
        [
         "31",
         "Kenya",
         "Mobile cellular subscriptions (per 100 people)",
         "2011",
         "65.673"
        ],
        [
         "32",
         "Rwanda",
         "GNI per capita, PPP (constant 2021 international $)",
         "2011",
         "1831.813038161748"
        ],
        [
         "33",
         "Rwanda",
         "Individuals using the Internet (% of population)",
         "2011",
         "7.000000000000001"
        ],
        [
         "34",
         "Rwanda",
         "Literacy rate, adult total (% of people ages 15 and above)",
         "2011",
         null
        ],
        [
         "35",
         "Rwanda",
         "Mobile cellular subscriptions (per 100 people)",
         "2011",
         "42.0494"
        ],
        [
         "36",
         "United States",
         "GNI per capita, PPP (constant 2021 international $)",
         "2011",
         "61098.91496620904"
        ],
        [
         "37",
         "United States",
         "Individuals using the Internet (% of population)",
         "2011",
         "69.69999999999999"
        ],
        [
         "38",
         "United States",
         "Literacy rate, adult total (% of people ages 15 and above)",
         "2011",
         null
        ],
        [
         "39",
         "United States",
         "Mobile cellular subscriptions (per 100 people)",
         "2011",
         "94.683"
        ],
        [
         "40",
         "Ecuador",
         "GNI per capita, PPP (constant 2021 international $)",
         "2012",
         "13022.760619647794"
        ],
        [
         "41",
         "Ecuador",
         "Individuals using the Internet (% of population)",
         "2012",
         "35.099999999999994"
        ],
        [
         "42",
         "Ecuador",
         "Literacy rate, adult total (% of people ages 15 and above)",
         "2012",
         "92.0"
        ],
        [
         "43",
         "Ecuador",
         "Mobile cellular subscriptions (per 100 people)",
         "2012",
         "105.68"
        ],
        [
         "44",
         "India",
         "GNI per capita, PPP (constant 2021 international $)",
         "2012",
         "5467.823986456303"
        ],
        [
         "45",
         "India",
         "Individuals using the Internet (% of population)",
         "2012",
         "11.1"
        ],
        [
         "46",
         "India",
         "Literacy rate, adult total (% of people ages 15 and above)",
         "2012",
         null
        ],
        [
         "47",
         "India",
         "Mobile cellular subscriptions (per 100 people)",
         "2012",
         "67.6264"
        ],
        [
         "48",
         "Kenya",
         "GNI per capita, PPP (constant 2021 international $)",
         "2012",
         "3698.906411531018"
        ],
        [
         "49",
         "Kenya",
         "Individuals using the Internet (% of population)",
         "2012",
         "10.5"
        ]
       ],
       "shape": {
        "columns": 4,
        "rows": 280
       }
      },
      "text/html": [
       "<div>\n",
       "<style scoped>\n",
       "    .dataframe tbody tr th:only-of-type {\n",
       "        vertical-align: middle;\n",
       "    }\n",
       "\n",
       "    .dataframe tbody tr th {\n",
       "        vertical-align: top;\n",
       "    }\n",
       "\n",
       "    .dataframe thead th {\n",
       "        text-align: right;\n",
       "    }\n",
       "</style>\n",
       "<table border=\"1\" class=\"dataframe\">\n",
       "  <thead>\n",
       "    <tr style=\"text-align: right;\">\n",
       "      <th></th>\n",
       "      <th>Country Name</th>\n",
       "      <th>Indicator Name</th>\n",
       "      <th>Year</th>\n",
       "      <th>Value</th>\n",
       "    </tr>\n",
       "  </thead>\n",
       "  <tbody>\n",
       "    <tr>\n",
       "      <th>0</th>\n",
       "      <td>Ecuador</td>\n",
       "      <td>GNI per capita, PPP (constant 2021 internation...</td>\n",
       "      <td>2010</td>\n",
       "      <td>11509.926424</td>\n",
       "    </tr>\n",
       "    <tr>\n",
       "      <th>1</th>\n",
       "      <td>Ecuador</td>\n",
       "      <td>Individuals using the Internet (% of population)</td>\n",
       "      <td>2010</td>\n",
       "      <td>29.000000</td>\n",
       "    </tr>\n",
       "    <tr>\n",
       "      <th>2</th>\n",
       "      <td>Ecuador</td>\n",
       "      <td>Literacy rate, adult total (% of people ages 1...</td>\n",
       "      <td>2010</td>\n",
       "      <td>92.000000</td>\n",
       "    </tr>\n",
       "    <tr>\n",
       "      <th>3</th>\n",
       "      <td>Ecuador</td>\n",
       "      <td>Mobile cellular subscriptions (per 100 people)</td>\n",
       "      <td>2010</td>\n",
       "      <td>98.036900</td>\n",
       "    </tr>\n",
       "    <tr>\n",
       "      <th>4</th>\n",
       "      <td>India</td>\n",
       "      <td>GNI per capita, PPP (constant 2021 internation...</td>\n",
       "      <td>2010</td>\n",
       "      <td>5108.182693</td>\n",
       "    </tr>\n",
       "    <tr>\n",
       "      <th>...</th>\n",
       "      <td>...</td>\n",
       "      <td>...</td>\n",
       "      <td>...</td>\n",
       "      <td>...</td>\n",
       "    </tr>\n",
       "    <tr>\n",
       "      <th>275</th>\n",
       "      <td>Rwanda</td>\n",
       "      <td>Mobile cellular subscriptions (per 100 people)</td>\n",
       "      <td>2023</td>\n",
       "      <td>91.462300</td>\n",
       "    </tr>\n",
       "    <tr>\n",
       "      <th>276</th>\n",
       "      <td>United States</td>\n",
       "      <td>GNI per capita, PPP (constant 2021 internation...</td>\n",
       "      <td>2023</td>\n",
       "      <td>74427.569662</td>\n",
       "    </tr>\n",
       "    <tr>\n",
       "      <th>277</th>\n",
       "      <td>United States</td>\n",
       "      <td>Individuals using the Internet (% of population)</td>\n",
       "      <td>2023</td>\n",
       "      <td>93.100000</td>\n",
       "    </tr>\n",
       "    <tr>\n",
       "      <th>278</th>\n",
       "      <td>United States</td>\n",
       "      <td>Literacy rate, adult total (% of people ages 1...</td>\n",
       "      <td>2023</td>\n",
       "      <td>NaN</td>\n",
       "    </tr>\n",
       "    <tr>\n",
       "      <th>279</th>\n",
       "      <td>United States</td>\n",
       "      <td>Mobile cellular subscriptions (per 100 people)</td>\n",
       "      <td>2023</td>\n",
       "      <td>112.411000</td>\n",
       "    </tr>\n",
       "  </tbody>\n",
       "</table>\n",
       "<p>280 rows × 4 columns</p>\n",
       "</div>"
      ],
      "text/plain": [
       "      Country Name                                     Indicator Name  Year  \\\n",
       "0          Ecuador  GNI per capita, PPP (constant 2021 internation...  2010   \n",
       "1          Ecuador   Individuals using the Internet (% of population)  2010   \n",
       "2          Ecuador  Literacy rate, adult total (% of people ages 1...  2010   \n",
       "3          Ecuador     Mobile cellular subscriptions (per 100 people)  2010   \n",
       "4            India  GNI per capita, PPP (constant 2021 internation...  2010   \n",
       "..             ...                                                ...   ...   \n",
       "275         Rwanda     Mobile cellular subscriptions (per 100 people)  2023   \n",
       "276  United States  GNI per capita, PPP (constant 2021 internation...  2023   \n",
       "277  United States   Individuals using the Internet (% of population)  2023   \n",
       "278  United States  Literacy rate, adult total (% of people ages 1...  2023   \n",
       "279  United States     Mobile cellular subscriptions (per 100 people)  2023   \n",
       "\n",
       "            Value  \n",
       "0    11509.926424  \n",
       "1       29.000000  \n",
       "2       92.000000  \n",
       "3       98.036900  \n",
       "4     5108.182693  \n",
       "..            ...  \n",
       "275     91.462300  \n",
       "276  74427.569662  \n",
       "277     93.100000  \n",
       "278           NaN  \n",
       "279    112.411000  \n",
       "\n",
       "[280 rows x 4 columns]"
      ]
     },
     "execution_count": 68,
     "metadata": {},
     "output_type": "execute_result"
    }
   ],
   "source": [
    "df_long"
   ]
  },
  {
   "cell_type": "code",
   "execution_count": 69,
   "id": "447b4d42",
   "metadata": {},
   "outputs": [
    {
     "data": {
      "image/png": "[encoded data removed]",
      "text/plain": [
       "<Figure size 1000x600 with 1 Axes>"
      ]
     },
     "metadata": {},
     "output_type": "display_data"
    }
   ],
   "source": [
    "plt.figure(figsize=(10, 6))\n",
    "\n",
    "data = df_long[df_long['Indicator Name'] == 'Mobile cellular subscriptions (per 100 people)']\n",
    "\n",
    "# Plot all countries except United States\n",
    "sns.lineplot(data=data[data['Country Name'] != 'United States'],\n",
    "             x='Year', y='Value', hue='Country Name', marker='o')\n",
    "\n",
    "# Overlay United States with black dashed line\n",
    "sns.lineplot(data=data[data['Country Name'] == 'United States'],\n",
    "             x='Year', y='Value', color='black', linestyle='--', marker='o', label='United States')\n",
    "\n",
    "plt.ylabel('Mobile Subscriptions (per 100 people)')\n",
    "plt.yticks(range(0, 141, 20))\n",
    "plt.legend()\n",
    "plt.grid(alpha=0.3)\n",
    "plt.tight_layout()\n",
    "plt.savefig('../output/mobile_subscriptions.pdf')"
   ]
  },
  {
   "cell_type": "code",
   "execution_count": 70,
   "id": "bc7dcd8c",
   "metadata": {},
   "outputs": [
    {
     "data": {
      "image/png": "[encoded data removed]",
      "text/plain": [
       "<Figure size 1000x600 with 1 Axes>"
      ]
     },
     "metadata": {},
     "output_type": "display_data"
    }
   ],
   "source": [
    "plt.figure(figsize=(10, 6))\n",
    "\n",
    "data = df_long[df_long['Indicator Name'] == 'Individuals using the Internet (% of population)']\n",
    "\n",
    "# Plot all countries except United States\n",
    "sns.lineplot(data=data[data['Country Name'] != 'United States'],\n",
    "             x='Year', y='Value', hue='Country Name', marker='o')\n",
    "\n",
    "# Overlay United States with black dashed line\n",
    "sns.lineplot(data=data[data['Country Name'] == 'United States'],\n",
    "             x='Year', y='Value', color='black', linestyle='--', marker='o', label='United States')\n",
    "\n",
    "plt.ylabel('Individuals using the Internet (% of population)')\n",
    "plt.yticks(range(0, 101, 10))\n",
    "plt.legend()\n",
    "plt.grid(alpha=0.3)\n",
    "plt.tight_layout()\n",
    "plt.savefig('../output/individuals_using_internet.pdf')"
   ]
  },
  {
   "cell_type": "code",
   "execution_count": 77,
   "id": "262dfad5",
   "metadata": {},
   "outputs": [
    {
     "data": {
      "image/png": "[encoded data removed]",
      "text/plain": [
       "<Figure size 1000x600 with 1 Axes>"
      ]
     },
     "metadata": {},
     "output_type": "display_data"
    }
   ],
   "source": [
    "plt.figure(figsize=(10, 6))\n",
    "\n",
    "data = df_long[df_long['Indicator Name'] == 'Literacy rate, adult total (% of people ages 15 and above)']\n",
    "\n",
    "# Plot all countries except United States\n",
    "sns.lineplot(data=data[data['Country Name'] != 'United States'],\n",
    "             x='Year', y='Value', hue='Country Name', marker='o')\n",
    "\n",
    "plt.ylabel('Literacy rate, adult total (% of people ages 15 and above)')\n",
    "plt.yticks(range(60, 101, 5))\n",
    "plt.legend()\n",
    "plt.grid(alpha=0.3)\n",
    "plt.tight_layout()\n",
    "plt.savefig('../output/literacy_rate.pdf')"
   ]
  },
  {
   "cell_type": "code",
   "execution_count": 72,
   "id": "221c09b1",
   "metadata": {},
   "outputs": [
    {
     "data": {
      "image/png": "[encoded data removed]",
      "text/plain": [
       "<Figure size 1000x600 with 1 Axes>"
      ]
     },
     "metadata": {},
     "output_type": "display_data"
    }
   ],
   "source": [
    "plt.figure(figsize=(10, 6))\n",
    "\n",
    "data = df_long[df_long['Indicator Name'] == 'GNI per capita, PPP (constant 2021 international $)']\n",
    "\n",
    "# Plot all countries except United States\n",
    "sns.lineplot(data=data[data['Country Name'] != 'United States'],\n",
    "             x='Year', y='Value', hue='Country Name', marker='o')\n",
    "\n",
    "# Overlay United States with black dashed line\n",
    "sns.lineplot(data=data[data['Country Name'] == 'United States'],\n",
    "             x='Year', y='Value', color='black', linestyle='--', marker='o', label='United States')\n",
    "plt.ylabel('GNI per Capita (2021 PPP$)')\n",
    "plt.yscale('log')\n",
    "\n",
    "# Set ticks at desired positions and labels\n",
    "ticks = [500, 1000, 2500, 5000, 7500, 10000, 15000, 20000, 60000, 80000]\n",
    "plt.yticks(ticks, [f\"{t:,}\" for t in ticks])\n",
    "\n",
    "plt.legend()\n",
    "plt.grid(alpha=0.3)\n",
    "plt.tight_layout()\n",
    "plt.savefig('../output/income_per_capita.pdf')"
   ]
  },
  {
   "cell_type": "code",
   "execution_count": null,
   "id": "c2cf2bf2",
   "metadata": {},
   "outputs": [],
   "source": []
  }
 ],
 "metadata": {
  "kernelspec": {
   "display_name": ".venv",
   "language": "python",
   "name": "python3"
  },
  "language_info": {
   "codemirror_mode": {
    "name": "ipython",
    "version": 3
   },
   "file_extension": ".py",
   "mimetype": "text/x-python",
   "name": "python",
   "nbconvert_exporter": "python",
   "pygments_lexer": "ipython3",
   "version": "3.12.10"
  }
 },
 "nbformat": 4,
 "nbformat_minor": 5
}
